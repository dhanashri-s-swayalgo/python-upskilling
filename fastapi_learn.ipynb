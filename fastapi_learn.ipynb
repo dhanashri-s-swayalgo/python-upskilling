{
 "cells": [
  {
   "cell_type": "code",
   "execution_count": 3,
   "metadata": {},
   "outputs": [
    {
     "name": "stdout",
     "output_type": "stream",
     "text": [
      "id=123 name='John Doe' signup_ts=datetime.datetime(2017, 6, 1, 12, 22) friends=[1, 2, 3]\n"
     ]
    }
   ],
   "source": [
    "from datetime import datetime\n",
    "from pydantic import BaseModel\n",
    "\n",
    "class user(BaseModel):\n",
    "    id : int\n",
    "    name : str = \"john doe\"\n",
    "    signup_ts : datetime | None = None  \n",
    "    friends: list[int] = []\n",
    "\n",
    "external_data = {\n",
    "    \"id\" : 123,\n",
    "    \"name\" : \"John Doe\",\n",
    "    \"signup_ts\" : \"2017-06-01 12:22\",\n",
    "        \"friends\": [1, \"2\", b\"3\"],\n",
    "}  \n",
    "user = user(**external_data)\n",
    "print(user)\n"
   ]
  },
  {
   "cell_type": "code",
   "execution_count": null,
   "metadata": {},
   "outputs": [],
   "source": []
  },
  {
   "cell_type": "code",
   "execution_count": null,
   "metadata": {},
   "outputs": [],
   "source": []
  },
  {
   "cell_type": "code",
   "execution_count": null,
   "metadata": {},
   "outputs": [],
   "source": []
  }
 ],
 "metadata": {
  "kernelspec": {
   "display_name": "fastapi-learn",
   "language": "python",
   "name": "python3"
  },
  "language_info": {
   "codemirror_mode": {
    "name": "ipython",
    "version": 3
   },
   "file_extension": ".py",
   "mimetype": "text/x-python",
   "name": "python",
   "nbconvert_exporter": "python",
   "pygments_lexer": "ipython3",
   "version": "3.12.3"
  }
 },
 "nbformat": 4,
 "nbformat_minor": 2
}
